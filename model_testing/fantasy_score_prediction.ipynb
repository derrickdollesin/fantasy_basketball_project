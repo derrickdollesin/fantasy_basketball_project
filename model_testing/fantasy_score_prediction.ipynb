{
 "cells": [
  {
   "cell_type": "markdown",
   "id": "b82bf582",
   "metadata": {},
   "source": [
    "<h5>How a Model Predicts Scores</h5>\n",
    "\n",
    "1. Input Data:\n",
    "- The model recieves inputs for a specific player in an upcoming game, including their past statistics, team performance metrics, and the opponent's tendencies.\n",
    "2. Feature Extraction:\n",
    "- Advanced features are extracted from the raw data, focusing on factors that influence fantasy scoring.\n",
    "3. Prediction:\n",
    "- The trained machine learning model processes these features and generates a predicted fantasy score for the player.\n",
    "4. Scoring System:\n",
    "- The prediction is based on a standard fantasy scoring system that assigns points for various actions (field goals, rebounds, assists, steals, etc.) and penalizes for negative actions (turnovers)."
   ]
  },
  {
   "cell_type": "markdown",
   "id": "69f2c83e",
   "metadata": {},
   "source": [
    "<h5>Key components of an NBA Fantasy Score Prediction Model:</h5>\n",
    "\n",
    "**Data Collection:**\n",
    "- Gather historical player statistics (points, rebounds, assists, etc.) and team-level data, including defensive matchups and opponent strength.\n",
    "\n",
    "**Feature Engineering:**\n",
    "- Extract relevant features, such as shooting efficiency, player role, and minutes played, which are correlated with fantasy point production. \n",
    "\n",
    "**Machine Learning Algorithms:**\n",
    "- Employ algorithms like Random Forest, XGBoost, AdaBoost, or Neural Networks to build the prediction model. \n",
    "\n",
    "**Target Variable:**\n",
    "- The target variable is typically the player's total fantasy points for a specific game, calculated using a defined scoring system. \n",
    "\n",
    "**Model Training:**\n",
    "- Train the chosen machine learning model on a historical dataset, allowing it to learn the relationships between the input features and the fantasy score. \n",
    "\n",
    "**Model Evaluation:**\n",
    "- Assess the model's accuracy using metrics such as Mean Absolute Error (MAE), Mean Squared Error (MSE)"
   ]
  },
  {
   "cell_type": "code",
   "execution_count": 1,
   "id": "cc96a73a",
   "metadata": {},
   "outputs": [],
   "source": [
    "import sys\n",
    "import pandas as pd\n",
    "import numpy as np\n",
    "import matplotlib.pyplot as plt\n",
    "import seaborn as sns\n",
    "\n",
    "from sklearn.preprocessing import StandardScaler\n",
    "from sklearn.model_selection import train_test_split\n",
    "from sklearn.linear_model import LinearRegression, Lasso, Ridge\n",
    "from sklearn.linear_model import LogisticRegression\n",
    "\n",
    "sys.path.append(r'C:\\Users\\DerDo\\Desktop\\fantasy_basketball_project')\n",
    "from functions import *"
   ]
  },
  {
   "cell_type": "markdown",
   "id": "5fd78eec",
   "metadata": {},
   "source": [
    "<h5>1. Input Data</h5>\n",
    "\n",
    "Game one of 2025-2026 season will be Houston Rockets vs. Oklahoma City Thunder"
   ]
  },
  {
   "cell_type": "code",
   "execution_count": 6,
   "id": "b9b24390",
   "metadata": {},
   "outputs": [],
   "source": [
    "### Get team data\n",
    "okc = get_roster('OKC', '2026')\n",
    "hou = get_roster('HOU', '2026')\n",
    "\n",
    "### Get conference data\n",
    "conference_data = get_team_data('2025')\n",
    "east_df = conference_data[1]\n",
    "west_df = conference_data[0]"
   ]
  },
  {
   "cell_type": "markdown",
   "id": "6be20127",
   "metadata": {},
   "source": [
    "Look at Team data again 8.28.2025"
   ]
  }
 ],
 "metadata": {
  "kernelspec": {
   "display_name": "Python 3",
   "language": "python",
   "name": "python3"
  },
  "language_info": {
   "codemirror_mode": {
    "name": "ipython",
    "version": 3
   },
   "file_extension": ".py",
   "mimetype": "text/x-python",
   "name": "python",
   "nbconvert_exporter": "python",
   "pygments_lexer": "ipython3",
   "version": "3.13.3"
  }
 },
 "nbformat": 4,
 "nbformat_minor": 5
}
