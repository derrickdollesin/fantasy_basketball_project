{
 "cells": [
  {
   "cell_type": "code",
   "execution_count": 2,
   "id": "f8ef80f9",
   "metadata": {},
   "outputs": [],
   "source": [
    "import sys\n",
    "import pandas as pd\n",
    "import numpy as np\n",
    "import matplotlib.pyplot as plt\n",
    "import seaborn as sns\n",
    "import sqlite3\n",
    "from datetime import datetime\n",
    "\n",
    "from sklearn.preprocessing import StandardScaler\n",
    "from sklearn.model_selection import train_test_split\n",
    "from sklearn.linear_model import LinearRegression, Lasso, Ridge\n",
    "from sklearn.linear_model import LogisticRegression\n",
    "\n",
    "sys.path.append(r'C:\\Users\\DerDo\\Desktop\\fantasy_basketball_project')\n",
    "from functions import *"
   ]
  },
  {
   "cell_type": "code",
   "execution_count": 3,
   "id": "81f0fd62",
   "metadata": {},
   "outputs": [],
   "source": [
    "### Get team data\n",
    "okc = get_roster('OKC', '2026')\n",
    "hou = get_roster('HOU', '2026')\n",
    "\n",
    "### Get conference data\n",
    "conference_data = get_team_data('2025')\n",
    "east_df = conference_data[1]\n",
    "west_df = conference_data[0]\n",
    "\n",
    "east_df.columns =[col.replace('/', '') if '/' in col else col for col in east_df.columns]\n",
    "east_df = east_df.rename(columns={'Eastern Conference': 'team_name', 'WL%':'WLperc'})\n",
    "west_df.columns = [col.replace('/', '') if '/' in col else col for col in west_df.columns]\n",
    "west_df = west_df.rename(columns={'Eastern Conference': 'team_name', 'WL%':'WLperc'})\n",
    "\n",
    "east_df['season'] = '2025'\n",
    "east_df['conference'] = 'east'\n",
    "west_df['season'] = '2025'\n",
    "west_df['conference'] = 'west'\n"
   ]
  },
  {
   "cell_type": "markdown",
   "id": "813f1218",
   "metadata": {},
   "source": [
    "creating tables and appending data"
   ]
  },
  {
   "cell_type": "code",
   "execution_count": 7,
   "id": "4412167a",
   "metadata": {},
   "outputs": [],
   "source": [
    "conn = sqlite3.connect(\"nba.db\")\n",
    "cursor = conn.cursor()\n",
    "\n",
    "cursor.execute(\"\"\"\n",
    "CREATE TABLE if not exists conference_data (\n",
    "    team_name TEXT,\n",
    "    W TEXT,\n",
    "    L TEXT,\n",
    "    WLperc TEXT,\n",
    "    GB TEXT,\n",
    "    PSG TEXT,\n",
    "    PAG TEXT,\n",
    "    SRS TEXT,\n",
    "    season text,\n",
    "    conference text,\n",
    "    PRIMARY KEY (team_name, season)\n",
    ");\n",
    "\"\"\")\n",
    "\n",
    "conn.commit()\n",
    "conn.close()\n",
    "\n",
    "# Connect to SQLite DB (creates table if not exists)\n",
    "with sqlite3.connect(\"nba.db\") as conn:\n",
    "    # Write DataFrame to a table called \"players\"\n",
    "    east_df.to_sql(\"conference_data\", conn, if_exists=\"append\", index=False)\n",
    "    west_df.to_sql(\"conference_data\", conn, if_exists=\"append\", index=False)\n",
    "\n",
    "    # Verify by reading back\n",
    "    check = pd.read_sql(\"SELECT * FROM conference_data\", conn)"
   ]
  },
  {
   "cell_type": "code",
   "execution_count": 9,
   "id": "21c6e3d6",
   "metadata": {},
   "outputs": [
    {
     "data": {
      "text/html": [
       "<div>\n",
       "<style scoped>\n",
       "    .dataframe tbody tr th:only-of-type {\n",
       "        vertical-align: middle;\n",
       "    }\n",
       "\n",
       "    .dataframe tbody tr th {\n",
       "        vertical-align: top;\n",
       "    }\n",
       "\n",
       "    .dataframe thead th {\n",
       "        text-align: right;\n",
       "    }\n",
       "</style>\n",
       "<table border=\"1\" class=\"dataframe\">\n",
       "  <thead>\n",
       "    <tr style=\"text-align: right;\">\n",
       "      <th></th>\n",
       "      <th>team_name</th>\n",
       "      <th>W</th>\n",
       "      <th>L</th>\n",
       "      <th>WLperc</th>\n",
       "      <th>GB</th>\n",
       "      <th>PSG</th>\n",
       "      <th>PAG</th>\n",
       "      <th>SRS</th>\n",
       "      <th>season</th>\n",
       "      <th>conference</th>\n",
       "    </tr>\n",
       "  </thead>\n",
       "  <tbody>\n",
       "    <tr>\n",
       "      <th>0</th>\n",
       "      <td>Cleveland Cavaliers*</td>\n",
       "      <td>64</td>\n",
       "      <td>18</td>\n",
       "      <td>.780</td>\n",
       "      <td>—</td>\n",
       "      <td>121.9</td>\n",
       "      <td>112.4</td>\n",
       "      <td>8.81</td>\n",
       "      <td>2025</td>\n",
       "      <td>east</td>\n",
       "    </tr>\n",
       "    <tr>\n",
       "      <th>1</th>\n",
       "      <td>Boston Celtics*</td>\n",
       "      <td>61</td>\n",
       "      <td>21</td>\n",
       "      <td>.744</td>\n",
       "      <td>3.0</td>\n",
       "      <td>116.3</td>\n",
       "      <td>107.2</td>\n",
       "      <td>8.28</td>\n",
       "      <td>2025</td>\n",
       "      <td>east</td>\n",
       "    </tr>\n",
       "    <tr>\n",
       "      <th>2</th>\n",
       "      <td>New York Knicks*</td>\n",
       "      <td>51</td>\n",
       "      <td>31</td>\n",
       "      <td>.622</td>\n",
       "      <td>13.0</td>\n",
       "      <td>115.8</td>\n",
       "      <td>111.7</td>\n",
       "      <td>3.59</td>\n",
       "      <td>2025</td>\n",
       "      <td>east</td>\n",
       "    </tr>\n",
       "    <tr>\n",
       "      <th>3</th>\n",
       "      <td>Indiana Pacers*</td>\n",
       "      <td>50</td>\n",
       "      <td>32</td>\n",
       "      <td>.610</td>\n",
       "      <td>14.0</td>\n",
       "      <td>117.4</td>\n",
       "      <td>115.1</td>\n",
       "      <td>1.68</td>\n",
       "      <td>2025</td>\n",
       "      <td>east</td>\n",
       "    </tr>\n",
       "    <tr>\n",
       "      <th>4</th>\n",
       "      <td>Milwaukee Bucks*</td>\n",
       "      <td>48</td>\n",
       "      <td>34</td>\n",
       "      <td>.585</td>\n",
       "      <td>16.0</td>\n",
       "      <td>115.5</td>\n",
       "      <td>113.0</td>\n",
       "      <td>2.12</td>\n",
       "      <td>2025</td>\n",
       "      <td>east</td>\n",
       "    </tr>\n",
       "  </tbody>\n",
       "</table>\n",
       "</div>"
      ],
      "text/plain": [
       "              team_name   W   L WLperc    GB    PSG    PAG   SRS season  \\\n",
       "0  Cleveland Cavaliers*  64  18   .780     —  121.9  112.4  8.81   2025   \n",
       "1       Boston Celtics*  61  21   .744   3.0  116.3  107.2  8.28   2025   \n",
       "2      New York Knicks*  51  31   .622  13.0  115.8  111.7  3.59   2025   \n",
       "3       Indiana Pacers*  50  32   .610  14.0  117.4  115.1  1.68   2025   \n",
       "4      Milwaukee Bucks*  48  34   .585  16.0  115.5  113.0  2.12   2025   \n",
       "\n",
       "  conference  \n",
       "0       east  \n",
       "1       east  \n",
       "2       east  \n",
       "3       east  \n",
       "4       east  "
      ]
     },
     "execution_count": 9,
     "metadata": {},
     "output_type": "execute_result"
    }
   ],
   "source": [
    "check.head()"
   ]
  },
  {
   "cell_type": "markdown",
   "id": "c7005eaf",
   "metadata": {},
   "source": [
    "checking tables"
   ]
  },
  {
   "cell_type": "code",
   "execution_count": 8,
   "id": "c0351229",
   "metadata": {},
   "outputs": [
    {
     "name": "stdout",
     "output_type": "stream",
     "text": [
      "Tables: ['conference_data']\n"
     ]
    }
   ],
   "source": [
    "with sqlite3.connect(\"nba.db\") as conn:\n",
    "    cur = conn.cursor()\n",
    "    cur.execute(\"SELECT name FROM sqlite_master WHERE type='table'\")\n",
    "    tables = cur.fetchall()\n",
    "\n",
    "print(\"Tables:\", [t[0] for t in tables])"
   ]
  },
  {
   "cell_type": "markdown",
   "id": "0ce777b0",
   "metadata": {},
   "source": [
    "dropping tables"
   ]
  },
  {
   "cell_type": "code",
   "execution_count": 5,
   "id": "948a4d7a",
   "metadata": {},
   "outputs": [],
   "source": [
    "with sqlite3.connect(\"nba.db\") as conn:\n",
    "    cur = conn.cursor()\n",
    "    # cur.execute('drop table conference_data')\n",
    "    cur.execute('drop table players')\n",
    "    "
   ]
  }
 ],
 "metadata": {
  "kernelspec": {
   "display_name": "Python 3",
   "language": "python",
   "name": "python3"
  },
  "language_info": {
   "codemirror_mode": {
    "name": "ipython",
    "version": 3
   },
   "file_extension": ".py",
   "mimetype": "text/x-python",
   "name": "python",
   "nbconvert_exporter": "python",
   "pygments_lexer": "ipython3",
   "version": "3.13.3"
  }
 },
 "nbformat": 4,
 "nbformat_minor": 5
}
